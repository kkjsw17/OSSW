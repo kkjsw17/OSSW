{
 "cells": [
  {
   "cell_type": "code",
   "execution_count": 2,
   "metadata": {},
   "outputs": [
    {
     "name": "stdout",
     "output_type": "stream",
     "text": [
      "7 hours, 36 minutes\n"
     ]
    }
   ],
   "source": [
    "time = 456\n",
    "hours = 456 // 60\n",
    "minutes = 456 % 60\n",
    "print(f\"{hours} hours, {minutes} minutes\")"
   ]
  },
  {
   "cell_type": "code",
   "execution_count": 7,
   "metadata": {},
   "outputs": [
    {
     "name": "stdout",
     "output_type": "stream",
     "text": [
      "김철수: 2.8\n"
     ]
    }
   ],
   "source": [
    "credit = {\n",
    "    \"홍길동\": 3.4,\n",
    "    \"임꺽정\": 4.0,\n",
    "    \"김철수\": 2.8,\n",
    "    \"이영희\": 3.9\n",
    "}\n",
    "name = sorted(credit.keys())[0]\n",
    "print(f\"{name}: {credit[name]}\")"
   ]
  },
  {
   "cell_type": "code",
   "execution_count": null,
   "metadata": {},
   "outputs": [],
   "source": []
  }
 ],
 "metadata": {
  "interpreter": {
   "hash": "9a4f137b7e770468c2de79435937c8f80e9a70000cbdab6dd213014034be7fad"
  },
  "kernelspec": {
   "display_name": "Python 3.9.7 ('MAS')",
   "language": "python",
   "name": "python3"
  },
  "language_info": {
   "codemirror_mode": {
    "name": "ipython",
    "version": 3
   },
   "file_extension": ".py",
   "mimetype": "text/x-python",
   "name": "python",
   "nbconvert_exporter": "python",
   "pygments_lexer": "ipython3",
   "version": "3.9.7"
  },
  "orig_nbformat": 4
 },
 "nbformat": 4,
 "nbformat_minor": 2
}
