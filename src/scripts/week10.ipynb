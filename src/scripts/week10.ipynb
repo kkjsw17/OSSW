{
 "cells": [
  {
   "cell_type": "code",
   "execution_count": 1,
   "metadata": {},
   "outputs": [
    {
     "name": "stdout",
     "output_type": "stream",
     "text": [
      "죽는 날까지 하늘을 우러러\n",
      "한 점 부끄럼이 없기를.\n",
      "잎새에 이는 바람에도\n",
      "너는 괴로워했다.\n",
      "별을 노래하는 마음으로\n",
      "모든 죽어가는 것을 사랑해야지\n",
      "그리고 너한테 주어진 길을\n",
      "걸어가야겠다.\n",
      "오늘 밤에도 별이 바람에 스치운다.\n"
     ]
    }
   ],
   "source": [
    "str = \"\"\"    죽는 날까지 하늘을 우러러\n",
    "한 점 부끄럼이 없기를.\n",
    "잎새에 이는 바람에도\n",
    "나는 괴로워했다.\n",
    "별을 노래하는 마음으로\n",
    "모든 죽어가는 것을 사랑해야지\n",
    "그리고 나한테 주어진 길을\n",
    "걸어가야겠다.\n",
    "오늘 밤에도 별이 바람에 스치운다.   \"\"\"\n",
    "str = str.strip()\n",
    "str = str.replace(\"나\", \"너\")\n",
    "print(str)"
   ]
  },
  {
   "cell_type": "code",
   "execution_count": 2,
   "metadata": {},
   "outputs": [
    {
     "name": "stdout",
     "output_type": "stream",
     "text": [
      "Max = 456\n"
     ]
    }
   ],
   "source": [
    "numstr = input(\"Numbers? \")\n",
    "nums = map(int, numstr.split())\n",
    "print(f\"Max = {max(nums)}\")"
   ]
  },
  {
   "cell_type": "code",
   "execution_count": 3,
   "metadata": {},
   "outputs": [
    {
     "name": "stdout",
     "output_type": "stream",
     "text": [
      "\"abc def\" is encoded into \"efg!bcd\"\n",
      "\"efg!bcd\" is decoded into \"abc def\"\n"
     ]
    }
   ],
   "source": [
    "def conv_asc(_str, num):\n",
    "    return ''.join(list(map(lambda c: chr(ord(c) + num), list(_str))))\n",
    "\n",
    "def enc(_str, key):\n",
    "    return conv_asc(' '.join(_str.split()[::-1]), key)\n",
    "\n",
    "def dec(_str, key):\n",
    "    return ' '.join(conv_asc(_str, -key).split()[::-1])\n",
    "\n",
    "_str = \"abc def\"\n",
    "enc_str = enc(_str, 1)\n",
    "print(f\"\\\"{_str}\\\" is encoded into \\\"{enc_str}\\\"\")\n",
    "\n",
    "dec_str = dec(enc_str, 1)\n",
    "print(f\"\\\"{enc_str}\\\" is decoded into \\\"{dec_str}\\\"\")"
   ]
  }
 ],
 "metadata": {
  "interpreter": {
   "hash": "9a4f137b7e770468c2de79435937c8f80e9a70000cbdab6dd213014034be7fad"
  },
  "kernelspec": {
   "display_name": "Python 3.9.7 ('MAS')",
   "language": "python",
   "name": "python3"
  },
  "language_info": {
   "codemirror_mode": {
    "name": "ipython",
    "version": 3
   },
   "file_extension": ".py",
   "mimetype": "text/x-python",
   "name": "python",
   "nbconvert_exporter": "python",
   "pygments_lexer": "ipython3",
   "version": "3.9.7"
  },
  "orig_nbformat": 4
 },
 "nbformat": 4,
 "nbformat_minor": 2
}
